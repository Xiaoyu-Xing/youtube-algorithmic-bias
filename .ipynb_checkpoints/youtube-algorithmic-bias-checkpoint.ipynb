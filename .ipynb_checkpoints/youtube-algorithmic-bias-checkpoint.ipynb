{
 "cells": [
  {
   "cell_type": "code",
   "execution_count": 1,
   "metadata": {},
   "outputs": [],
   "source": [
    "import os\n",
    "import random\n",
    "import json\n",
    "from pprint import pprint"
   ]
  },
  {
   "cell_type": "code",
   "execution_count": 2,
   "metadata": {},
   "outputs": [],
   "source": [
    "class Build_Profiles:\n",
    "    # Specify data location, and output location.\n",
    "    def __init__(self, input_path='data', output_path='output'):\n",
    "        '''\n",
    "        Input:\n",
    "            input_path: data dir, default '/data'\n",
    "            output_put: output dir, default '/ouput', make dir if not exists\n",
    "        '''\n",
    "        self.input_path = input_path\n",
    "        self.output_path = output_path\n",
    "        if not os.path.exists(self.input_path):\n",
    "            raise Exception('Input path not found, or /Data folder not exist.')\n",
    "        if not os.path.exists(self.output_path):\n",
    "            os.makedirs(self.output_path)\n",
    "        # Average profile details, keyed with last word of each json profile filename\n",
    "        self.profiles = {}\n",
    "        # *_dirs are the root directories path for files of profiles, base/related videos\n",
    "        self.profiles_dir, self.videos_base_dir, self.videos_related_dir = '', '', ''\n",
    "        # Names of files are stored separately, used together with dir path above\n",
    "        self.profiles_files, self.videos_base_files, self.videos_related_files = [], [], []\n",
    "        # Profile videos for each profile, keyed with filename of each json base-video filename\n",
    "        # Non-detailed version only contains urls in a List,\n",
    "        # Detailed version, keyed by the url, contains author, timestamp, score, and title.\n",
    "        self.base_videos, self.base_videos_details, self.base_videos_summary = {}, {}, {}\n",
    "        # Extended/related profile videos for each profile, keyed with filename of each json related-video filename\n",
    "        self.related_videos, self.related_videos_details, self.related_videos_summary = {}, {}, {}\n",
    "        # Run to parse the input folder\n",
    "        self._parse_folders()\n",
    "        # Run to generate profile details\n",
    "        self._generate_profiles()\n",
    "\n",
    "    # Parse data folder\n",
    "    def _parse_folders(self):\n",
    "        path = self.input_path\n",
    "        for (cur_dirpath, sub_dirnames, cur_filenames) in os.walk(path):\n",
    "            # Average profile files\n",
    "            if 'profiles' in cur_dirpath:\n",
    "                self.profiles_dir = cur_dirpath\n",
    "                self.profiles_files = cur_filenames\n",
    "            # Base videos, parse json files only\n",
    "            elif 'videos' in cur_dirpath and 'base' in cur_dirpath:\n",
    "                self.videos_base_dir = cur_dirpath\n",
    "                self.videos_base_files = [\n",
    "                    each for each in cur_filenames if 'ndjson' not in each]\n",
    "            # Related videos, parse json files only\n",
    "            elif 'videos' in cur_dirpath and 'related' in cur_dirpath and 'ndjson' not in cur_dirpath:\n",
    "                self.videos_related_dir = cur_dirpath\n",
    "                self.videos_related_files = cur_filenames\n",
    "\n",
    "    # Read json file\n",
    "    def _read_json(self, path):\n",
    "        '''\n",
    "        Input: \n",
    "            path: file path\n",
    "        Return:\n",
    "            json file, lenght, type\n",
    "        '''\n",
    "        with open(path) as f:\n",
    "            jfile = json.load(f)\n",
    "        return jfile, len(jfile), type(jfile)\n",
    "\n",
    "    # Populate profile details\n",
    "    def _generate_profiles(self):\n",
    "        for profile in self.profiles_files:\n",
    "            if 'ndjson' in profile or 'table' in profile:  # Skip ndjson\n",
    "                continue\n",
    "            # Use last word as key\n",
    "            name = os.path.splitext(profile)[0].split('_', 2)[-1]\n",
    "            profile_path = os.path.join(self.profiles_dir, profile)\n",
    "            self.profiles[name] = self._read_json(profile_path)[0]\n",
    "\n",
    "    # Collect all the videos from a json file\n",
    "    def _load_videos(self, file):\n",
    "        '''\n",
    "        Input:\n",
    "            file: json file path\n",
    "        Return:\n",
    "            video list, and detailed video dict keyed with url\n",
    "        '''\n",
    "        videos_short, videos_details = [], []\n",
    "        videos, length, _ = self._read_json(file)\n",
    "        for video in videos:\n",
    "            videos_short.append(video['url'])\n",
    "            details = video.copy()\n",
    "            del details['url']\n",
    "            videos_details.append({video['url']: details})\n",
    "        return videos_short, videos_details\n",
    "\n",
    "    # Collect all the base videos for all profiles\n",
    "    def _build_profiles_base(self, limit):\n",
    "        '''\n",
    "        Input:\n",
    "            limit: int, how many top videos to choose\n",
    "        '''\n",
    "        for file in self.videos_base_files:\n",
    "            path = os.path.join(self.videos_base_dir, file)\n",
    "            v, v_d = self._load_videos(path)\n",
    "            key = os.path.splitext(file)[0]\n",
    "            self.base_videos[key] = v[:limit]\n",
    "            self.base_videos_details[key] = v_d[:limit]\n",
    "            self.base_videos_summary[key] = len(self.base_videos[key])\n",
    "\n",
    "    # Give data and file_path (need include .json extension), write file, overwrite if exists.\n",
    "    def _write_json(self, data, file):\n",
    "        '''\n",
    "        Input:\n",
    "            data: data to write\n",
    "            file: file path to write\n",
    "        '''\n",
    "        with open(file, 'w') as f:\n",
    "            # Indent will help json viewer properly display the format\n",
    "            json.dump(data, f, indent=4)\n",
    "\n",
    "    # Generate files based on the base output\n",
    "    # Only output file will be shuffled is shuffle is True, the class attributes will not be shuffled,\n",
    "    # to prevent uneven shuffle after sampled with related videos\n",
    "    # Turn details False will stop write detailed version of videos\n",
    "    def output_profiles_base(self, shuffle=False, details=True, limit=50):\n",
    "        '''\n",
    "        Input:\n",
    "            shuffle: boolean, whether to shuffle the ourput\n",
    "            details: boolean, whether to output detailed version\n",
    "            limit: int, how many to output\n",
    "        '''\n",
    "        # Run to generate base profile videos\n",
    "        self._build_profiles_base(limit)\n",
    "        out_path = self.output_path\n",
    "        for file, videos in self.base_videos.items():\n",
    "            name_base = 'base_videos_' + file + '.json'\n",
    "            data = videos[:]\n",
    "            if shuffle:\n",
    "                random.shuffle(data)\n",
    "            self._write_json(data, os.path.join(out_path, name_base))\n",
    "        self._write_json(self.base_videos_summary,\n",
    "                         os.path.join(out_path, 'base_summary.json'))\n",
    "        if details:\n",
    "            for file, videos in self.base_videos_details.items():\n",
    "                name_base_details = 'base_videos_details_' + file + '.json'\n",
    "                data = videos[:]\n",
    "                if shuffle:\n",
    "                    random.shuffle(data)\n",
    "                self._write_json(data, os.path.join(out_path, name_base_details))\n",
    "\n",
    "    # Read a json profile file, output content, lenght, type. For external use.\n",
    "    def read_json(self, file_path):\n",
    "        return self._read_json(file_path)\n",
    "\n",
    "    # Read a json video file, output short list (url only), detailed list. For external use.\n",
    "    def read_videos(self, file_path):\n",
    "        return self._load_videos(file_path)\n",
    "\n",
    "    def _load_related_videos(self, file):\n",
    "        '''\n",
    "        Input:\n",
    "            file: json file path\n",
    "        Return:\n",
    "            video list, and detailed video dict keyed with url\n",
    "        '''\n",
    "        videos_short, videos_details = [], []\n",
    "        videos, length, _ = self._read_json(file)\n",
    "        for video in videos['data']:\n",
    "            videos_short.append(video['url'])\n",
    "            details = video.copy()\n",
    "            del details['url']\n",
    "            videos_details.append({video['url']: details})\n",
    "        return videos_short, videos_details\n",
    "    \n",
    "    def _build_profiles_related(self, limit):\n",
    "        for file in self.videos_related_files:\n",
    "            key = os.path.splitext(file)[0]\n",
    "            path = os.path.join(self.videos_related_dir, file)\n",
    "            v, v_d = self._load_related_videos(path)\n",
    "            self.related_videos[key] = v[:limit]\n",
    "            self.related_videos_details[key] = v_d[:limit]\n",
    "            self.related_videos_summary[key] = len(self.related_videos[key])\n",
    "\n",
    "    def output_profiles_related(self, shuffle=False, details=True, limit=50):\n",
    "        self._build_profiles_related(limit)\n",
    "        pass"
   ]
  },
  {
   "cell_type": "code",
   "execution_count": 3,
   "metadata": {
    "scrolled": false
   },
   "outputs": [],
   "source": [
    "BP = Build_Profiles()"
   ]
  },
  {
   "cell_type": "code",
   "execution_count": 4,
   "metadata": {},
   "outputs": [
    {
     "data": {
      "text/plain": [
       "dict_keys(['enoughtrumpspam', 'feminism', 'incel', 'inceltears', 'mensrights', 'metoo', 'the_donald'])"
      ]
     },
     "execution_count": 4,
     "metadata": {},
     "output_type": "execute_result"
    }
   ],
   "source": [
    "BP.profiles.keys()\n"
   ]
  },
  {
   "cell_type": "code",
   "execution_count": 5,
   "metadata": {},
   "outputs": [
    {
     "data": {
      "text/plain": [
       "['enoughtrumpspam.json',\n",
       " 'feminism.json',\n",
       " 'incel.json',\n",
       " 'inceltears.json',\n",
       " 'mensrights.json',\n",
       " 'metoo.json',\n",
       " 'the_donald.json']"
      ]
     },
     "execution_count": 5,
     "metadata": {},
     "output_type": "execute_result"
    }
   ],
   "source": [
    "BP.videos_base_files"
   ]
  },
  {
   "cell_type": "code",
   "execution_count": 6,
   "metadata": {},
   "outputs": [
    {
     "data": {
      "text/plain": [
       "dict_keys(['enoughtrumpspam', 'feminism', 'incel', 'inceltears', 'mensrights', 'metoo', 'the_donald'])"
      ]
     },
     "execution_count": 6,
     "metadata": {},
     "output_type": "execute_result"
    }
   ],
   "source": [
    "BP.profiles.keys()"
   ]
  },
  {
   "cell_type": "code",
   "execution_count": 4,
   "metadata": {
    "scrolled": true
   },
   "outputs": [],
   "source": [
    "BP.output_profiles_base(shuffle=False, details=True, limit=50)"
   ]
  },
  {
   "cell_type": "code",
   "execution_count": 6,
   "metadata": {},
   "outputs": [],
   "source": [
    "BP.output_profiles_related()"
   ]
  },
  {
   "cell_type": "code",
   "execution_count": 7,
   "metadata": {},
   "outputs": [
    {
     "data": {
      "text/plain": [
       "40134"
      ]
     },
     "execution_count": 7,
     "metadata": {},
     "output_type": "execute_result"
    }
   ],
   "source": [
    "len(BP.related_videos)"
   ]
  },
  {
   "cell_type": "code",
   "execution_count": 8,
   "metadata": {},
   "outputs": [
    {
     "data": {
      "text/plain": [
       "40134"
      ]
     },
     "execution_count": 8,
     "metadata": {},
     "output_type": "execute_result"
    }
   ],
   "source": [
    "len(BP.related_videos_summary)"
   ]
  },
  {
   "cell_type": "code",
   "execution_count": 12,
   "metadata": {
    "scrolled": true
   },
   "outputs": [
    {
     "name": "stdout",
     "output_type": "stream",
     "text": [
      "('00mph', 9)\n",
      "('00sMusic', 5)\n",
      "('00sRock', 50)\n",
      "('03greedo', 5)\n",
      "('07Scape', 50)\n",
      "('093game', 9)\n",
      "('09zero', 1)\n",
      "('0ad', 42)\n",
      "('0b0t', 1)\n",
      "('0chain', 5)\n",
      "('0w0', 4)\n",
      "('0x2a_personal', 1)\n",
      "('0xbitcoin', 19)\n",
      "('0xcert', 15)\n",
      "('0xProject', 50)\n",
      "('1000thworldproblems', 4)\n",
      "('1001Movies', 4)\n",
      "('100DaysofKeto', 1)\n",
      "('100kClub', 5)\n",
      "('100pushups', 25)\n",
      "('100sets', 4)\n",
      "('100sexiest', 7)\n",
      "('100thieves', 50)\n",
      "('100yearclub', 15)\n",
      "('100yearsago', 50)\n",
      "('101Wicca', 8)\n",
      "('1022', 29)\n",
      "('1037_Studios', 1)\n",
      "('1046FM', 7)\n",
      "('10cloverfieldlane', 16)\n",
      "('10mm', 9)\n",
      "('10s', 8)\n",
      "('112263Hulu', 9)\n",
      "('117thOSINT', 1)\n",
      "('11foot8', 30)\n",
      "('11MRadio', 5)\n",
      "('1200isfineIGUESSugh', 3)\n",
      "('1200isjerky', 35)\n",
      "('1200isplenty', 50)\n",
      "('1200isplentyketo', 50)\n",
      "('120db', 21)\n",
      "('12Monkeys', 46)\n",
      "('12thMan', 18)\n",
      "('1337Foundation', 6)\n",
      "('13451452251849519', 50)\n",
      "('13or30', 50)\n",
      "('13ReasonsWhy', 50)\n",
      "('13reasonswhyhate', 17)\n",
      "('13thage', 2)\n",
      "('14ers', 19)\n",
      "('1500isplenty', 50)\n",
      "('17776', 12)\n",
      "('18650', 20)\n",
      "('18650BatteryPacks', 3)\n",
      "('18650masterrace', 21)\n",
      "('18XX', 12)\n",
      "('18_19', 16)\n",
      "('18_20', 2)\n",
      "('1911', 43)\n",
      "('1920s', 25)\n",
      "('195', 50)\n",
      "('1960s', 50)\n",
      "('1970s', 50)\n",
      "('1980s', 44)\n",
      "('1984', 16)\n",
      "('1984isreality', 50)\n",
      "('198Methods', 1)\n",
      "('19KidsandCounting', 50)\n",
      "('1Broker', 7)\n",
      "('1DaySkill', 11)\n",
      "('1FCNuernberg', 3)\n",
      "('1P_LSD', 9)\n",
      "('1stgencelica', 1)\n",
      "('1traitdanger', 1)\n",
      "('1WorldOnlineOfficial', 7)\n",
      "('2000ad', 8)\n",
      "('2000sMusic', 50)\n",
      "('2003CloneWarsMemes', 1)\n",
      "('2007oneclan', 7)\n",
      "('2007scape', 50)\n",
      "('200wordrpg', 1)\n",
      "('2010sMusic', 50)\n",
      "('2018Elections', 9)\n",
      "('2018memes', 50)\n",
      "('2070vids', 50)\n",
      "('20xxgame', 18)\n",
      "('2112', 2)\n",
      "('21DayFix', 4)\n",
      "('21savage', 50)\n",
      "('22lr', 18)\n",
      "('23andme', 42)\n",
      "('23andmeShare', 2)\n",
      "('240sx', 50)\n",
      "('24CarrotCraft', 7)\n",
      "('24hoursupport', 50)\n",
      "('250r', 15)\n",
      "('2600', 5)\n",
      "('26FrightsOfFreddy', 3)\n",
      "('278', 1)\n",
      "('29er', 50)\n",
      "('2ALiberals', 50)\n",
      "('2anime_irl4anime_irl', 22)\n"
     ]
    }
   ],
   "source": [
    "for i, p in enumerate(BP.related_videos_summary.items()):\n",
    "    print(p)\n",
    "    if i > 100:\n",
    "        break"
   ]
  },
  {
   "cell_type": "code",
   "execution_count": null,
   "metadata": {},
   "outputs": [],
   "source": []
  }
 ],
 "metadata": {
  "kernelspec": {
   "display_name": "Python 3",
   "language": "python",
   "name": "python3"
  },
  "language_info": {
   "codemirror_mode": {
    "name": "ipython",
    "version": 3
   },
   "file_extension": ".py",
   "mimetype": "text/x-python",
   "name": "python",
   "nbconvert_exporter": "python",
   "pygments_lexer": "ipython3",
   "version": "3.7.1"
  }
 },
 "nbformat": 4,
 "nbformat_minor": 2
}
