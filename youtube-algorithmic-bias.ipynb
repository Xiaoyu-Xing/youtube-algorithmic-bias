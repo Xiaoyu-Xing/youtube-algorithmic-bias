{
 "cells": [
  {
   "cell_type": "code",
   "execution_count": 111,
   "metadata": {},
   "outputs": [],
   "source": [
    "from os import walk\n",
    "from os.path import join\n",
    "from pathlib import Path\n",
    "import copy\n",
    "import random\n",
    "import json\n",
    "from pprint import pprint"
   ]
  },
  {
   "cell_type": "code",
   "execution_count": 123,
   "metadata": {},
   "outputs": [],
   "source": [
    "class Build_Profiles:\n",
    "    def __init__(self, input_path='data', output_path='output'):\n",
    "        self.input_path = input_path\n",
    "        self.output_path = output_path\n",
    "        # Average profile details, keyed with last word of each json profile filename\n",
    "        self.profiles = {}\n",
    "        # Profile videos for each profile, keyed with filename of each json base-videos filename\n",
    "        # Non-detailed version only contains urls in a List, \n",
    "        # detailed version, keyed by the url, contains author, timestamp, score, and title. \n",
    "        self.base_videos, self.base_videos_details, self.base_videos_summary = {}, {}, {}\n",
    "        # *_dirs are the root directories path for files of profiles, base/related videos\n",
    "        self.profiles_dir, self.videos_base_dir, self.videos_related_dir = '', '', ''\n",
    "        # Names of files are stored separately, used together with dir path above\n",
    "        self.profiles_files, self.videos_base_files, self.videos_related_files = [], [], []\n",
    "        # Run to parse the input folder\n",
    "        self._parse_folders()\n",
    "        # Run to generate profile details\n",
    "        self._generate_profiles()\n",
    "        # Run to generate base profile videos\n",
    "        self._build_profiles_base()\n",
    "        \n",
    "    # Parse data folder\n",
    "    def _parse_folders(self):\n",
    "        path = self.input_path\n",
    "        for (cur_dirpath, sub_dirnames, cur_filenames) in walk(path):\n",
    "            # Average profile files\n",
    "            if 'profiles' in cur_dirpath:\n",
    "                self.profiles_dir = cur_dirpath\n",
    "                self.profiles_files = cur_filenames\n",
    "            # Base videos, parse json files only\n",
    "            elif 'videos' in cur_dirpath and 'base' in cur_dirpath:\n",
    "                self.videos_base_dir = cur_dirpath\n",
    "                self.videos_base_files = [each for each in cur_filenames if 'ndjson' not in each]\n",
    "            # Related videos, parse json files only\n",
    "            elif 'videos' in cur_dirpath and 'related' in cur_dirpath and 'json' in cur_dirpath:\n",
    "                self.videos_related_dir = cur_dirpath\n",
    "                self.videos_related_files = cur_filenames  \n",
    "                \n",
    "    # Read json file\n",
    "    def _read_json(self, path):\n",
    "        with open(path) as f:\n",
    "            jfile = json.load(f)\n",
    "        return jfile, len(jfile), type(jfile)\n",
    "    \n",
    "    # Populate profile details\n",
    "    def _generate_profiles(self):\n",
    "        for profile in self.profiles_files:\n",
    "            if 'ndjson' in profile: # Skip ndjson\n",
    "                continue\n",
    "            # Use last word as key\n",
    "            name = profile.strip('.json').split('_')[-1]\n",
    "            profile_path = join(self.profiles_dir, profile)\n",
    "            self.profiles[name] = self._read_json(profile_path)[0]\n",
    "            \n",
    "    # Collect all the videos from a json file\n",
    "    def _load_videos(self, file):\n",
    "        videos_short, videos_details = [], {}\n",
    "        videos, length, _ = self._read_json(file)\n",
    "        for video in videos:\n",
    "            videos_short.append(video['url'])\n",
    "            details = video.copy()\n",
    "            del details['url']\n",
    "            videos_details[video['url']] = details\n",
    "        return videos_short, videos_details\n",
    "    \n",
    "    \n",
    "    # Collect all the base videos for all profiles\n",
    "    def _build_profiles_base(self):\n",
    "        for file in self.videos_base_files:\n",
    "            path = join(self.videos_base_dir, file)\n",
    "            v, v_d = self._load_videos(path)\n",
    "            key = file.strip('.json')\n",
    "            self.base_videos[key] = v\n",
    "            self.base_videos_details[key] = v_d\n",
    "            self.base_videos_summary[key] = len(v)\n",
    "    \n",
    "    # Generate files based on the base output\n",
    "    # Only output file will be shuffled is shuffle is True, the class attributes will not be shuffled,\n",
    "    # to prevent uneven shuffle after sampled with extended videos\n",
    "    def output_profiles_base(self, output=None, shuffle=False):\n",
    "        out_path = output or self.output_path\n",
    "        for file, videos in self.base_videos.items():\n",
    "            name_base = 'base_videos_' + file + '.json'\n",
    "            if shuffle:\n",
    "                data = videos.copy()\n",
    "                random.shuffle(data)\n",
    "            with open(join(out_path, name_base), 'w') as f:\n",
    "                # Indent will help json viewer properly display the format, same below\n",
    "                json.dump(data, f, indent=4)\n",
    "        for file, videos in self.base_videos_details.items():\n",
    "            name_base_details = 'base_videos_details_' + file + '.json'\n",
    "            videos = videos.items()\n",
    "            # Unable to shuffle a dictionary\n",
    "            if shuffle:\n",
    "                data = list(videos)\n",
    "                random.shuffle(data)\n",
    "            with open(join(out_path, name_base_details), 'w') as f:\n",
    "                # May because dictionary 'videos' is large, so the videos is type 'dict_values', json complains\n",
    "                json.dump(dict(data), f, indent=4)\n",
    "        with open(join(out_path, 'base_summary.json'), 'w') as f:\n",
    "            json.dump(self.base_videos_summary, f, indent=4)\n",
    "            \n",
    "    def _build_profiles_extended(self):\n",
    "        pass\n",
    "    \n",
    "    def output_profiles_extended(self):\n",
    "        pass\n",
    "    "
   ]
  },
  {
   "cell_type": "code",
   "execution_count": 124,
   "metadata": {
    "scrolled": true
   },
   "outputs": [],
   "source": [
    "BP = Build_Profiles()"
   ]
  },
  {
   "cell_type": "code",
   "execution_count": 82,
   "metadata": {},
   "outputs": [
    {
     "data": {
      "text/plain": [
       "{'enoughtrumpspam': 100,\n",
       " 'feminism': 100,\n",
       " 'incel': 17,\n",
       " 'inceltear': 100,\n",
       " 'mensright': 100,\n",
       " 'met': 79,\n",
       " 'the_donald': 100}"
      ]
     },
     "execution_count": 82,
     "metadata": {},
     "output_type": "execute_result"
    }
   ],
   "source": [
    "BP.base_videos_summary"
   ]
  },
  {
   "cell_type": "code",
   "execution_count": 69,
   "metadata": {},
   "outputs": [
    {
     "data": {
      "text/plain": [
       "['enoughtrumpspam.json',\n",
       " 'feminism.json',\n",
       " 'incel.json',\n",
       " 'inceltears.json',\n",
       " 'mensrights.json',\n",
       " 'metoo.json',\n",
       " 'the_donald.json']"
      ]
     },
     "execution_count": 69,
     "metadata": {},
     "output_type": "execute_result"
    }
   ],
   "source": [
    "BP.videos_base_files"
   ]
  },
  {
   "cell_type": "code",
   "execution_count": 70,
   "metadata": {},
   "outputs": [
    {
     "data": {
      "text/plain": [
       "17"
      ]
     },
     "execution_count": 70,
     "metadata": {},
     "output_type": "execute_result"
    }
   ],
   "source": [
    "len(BP.base_videos['incel'])"
   ]
  },
  {
   "cell_type": "code",
   "execution_count": 71,
   "metadata": {},
   "outputs": [
    {
     "data": {
      "text/plain": [
       "{'enoughtrumpspam': 100,\n",
       " 'feminism': 100,\n",
       " 'incel': 17,\n",
       " 'inceltear': 100,\n",
       " 'mensright': 100,\n",
       " 'met': 79,\n",
       " 'the_donald': 100}"
      ]
     },
     "execution_count": 71,
     "metadata": {},
     "output_type": "execute_result"
    }
   ],
   "source": [
    "BP.base_videos_summary"
   ]
  },
  {
   "cell_type": "code",
   "execution_count": 126,
   "metadata": {},
   "outputs": [
    {
     "data": {
      "text/plain": [
       "['https://youtu.be/QwChpF4BquM',\n",
       " 'https://youtu.be/Sk6HMuLJ8bM',\n",
       " 'https://www.youtube.com/watch?v=6_O--GdDw0Y',\n",
       " 'https://www.youtube.com/watch?v=sJ8EAwRauoM',\n",
       " 'https://www.youtube.com/watch?v=6AU1_YllifE',\n",
       " 'https://youtu.be/SrhgDQjxDaw',\n",
       " 'https://youtu.be/wIYXfFXa7uQ',\n",
       " 'https://www.youtube.com/watch?v=j0_5L9euMhs',\n",
       " 'https://www.youtube.com/watch?v=rfqTDkFOjyk',\n",
       " 'https://youtu.be/XLmRR2r4oqo',\n",
       " 'https://www.youtube.com/watch?v=uSD4vsh1zDA',\n",
       " 'https://www.youtube.com/watch?v=9qKNC9cz7Qg',\n",
       " 'https://youtu.be/i649LG9Q124',\n",
       " 'https://www.youtube.com/watch?v=chqtOlOEdsY',\n",
       " 'https://www.youtube.com/watch?v=CYSOjuGdmvI',\n",
       " 'https://www.youtube.com/watch?v=-dADEwl2c_Y',\n",
       " 'https://www.youtube.com/watch?v=2pSqndUZ18A']"
      ]
     },
     "execution_count": 126,
     "metadata": {},
     "output_type": "execute_result"
    }
   ],
   "source": [
    "BP.base_videos['incel']"
   ]
  },
  {
   "cell_type": "code",
   "execution_count": 125,
   "metadata": {
    "scrolled": true
   },
   "outputs": [],
   "source": [
    "BP.output_profiles_base(shuffle=True)"
   ]
  },
  {
   "cell_type": "code",
   "execution_count": null,
   "metadata": {},
   "outputs": [],
   "source": []
  }
 ],
 "metadata": {
  "kernelspec": {
   "display_name": "Python 3",
   "language": "python",
   "name": "python3"
  },
  "language_info": {
   "codemirror_mode": {
    "name": "ipython",
    "version": 3
   },
   "file_extension": ".py",
   "mimetype": "text/x-python",
   "name": "python",
   "nbconvert_exporter": "python",
   "pygments_lexer": "ipython3",
   "version": "3.7.1"
  }
 },
 "nbformat": 4,
 "nbformat_minor": 2
}
